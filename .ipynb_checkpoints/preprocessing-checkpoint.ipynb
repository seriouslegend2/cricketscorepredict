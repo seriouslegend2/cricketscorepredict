{
 "cells": [
  {
   "cell_type": "code",
   "execution_count": 1,
   "metadata": {},
   "outputs": [],
   "source": [
    "import pandas as pd\n",
    "from datetime import datetime"
   ]
  },
  {
   "cell_type": "code",
   "execution_count": 2,
   "metadata": {},
   "outputs": [
    {
     "name": "stderr",
     "output_type": "stream",
     "text": [
      "/tmp/ipykernel_14610/2746688689.py:1: DtypeWarning: Columns (1) have mixed types. Specify dtype option on import or set low_memory=False.\n",
      "  df = pd.read_csv('./archive/ipl_match_ball_by_ball_data.csv')\n"
     ]
    }
   ],
   "source": [
    "df = pd.read_csv('./archive/ipl_match_ball_by_ball_data.csv')"
   ]
  },
  {
   "cell_type": "code",
   "execution_count": 3,
   "metadata": {},
   "outputs": [
    {
     "data": {
      "text/html": [
       "<div>\n",
       "<style scoped>\n",
       "    .dataframe tbody tr th:only-of-type {\n",
       "        vertical-align: middle;\n",
       "    }\n",
       "\n",
       "    .dataframe tbody tr th {\n",
       "        vertical-align: top;\n",
       "    }\n",
       "\n",
       "    .dataframe thead th {\n",
       "        text-align: right;\n",
       "    }\n",
       "</style>\n",
       "<table border=\"1\" class=\"dataframe\">\n",
       "  <thead>\n",
       "    <tr style=\"text-align: right;\">\n",
       "      <th></th>\n",
       "      <th>match_id</th>\n",
       "      <th>season</th>\n",
       "      <th>start_date</th>\n",
       "      <th>venue</th>\n",
       "      <th>innings</th>\n",
       "      <th>ball</th>\n",
       "      <th>batting_team</th>\n",
       "      <th>bowling_team</th>\n",
       "      <th>striker</th>\n",
       "      <th>non_striker</th>\n",
       "      <th>...</th>\n",
       "      <th>extras</th>\n",
       "      <th>wides</th>\n",
       "      <th>noballs</th>\n",
       "      <th>byes</th>\n",
       "      <th>legbyes</th>\n",
       "      <th>penalty</th>\n",
       "      <th>wicket_type</th>\n",
       "      <th>player_dismissed</th>\n",
       "      <th>other_wicket_type</th>\n",
       "      <th>other_player_dismissed</th>\n",
       "    </tr>\n",
       "  </thead>\n",
       "  <tbody>\n",
       "    <tr>\n",
       "      <th>0</th>\n",
       "      <td>335982</td>\n",
       "      <td>2007/08</td>\n",
       "      <td>2008-04-18</td>\n",
       "      <td>M Chinnaswamy Stadium</td>\n",
       "      <td>1</td>\n",
       "      <td>0.1</td>\n",
       "      <td>Kolkata Knight Riders</td>\n",
       "      <td>Royal Challengers Bangalore</td>\n",
       "      <td>SC Ganguly</td>\n",
       "      <td>BB McCullum</td>\n",
       "      <td>...</td>\n",
       "      <td>1</td>\n",
       "      <td>NaN</td>\n",
       "      <td>NaN</td>\n",
       "      <td>NaN</td>\n",
       "      <td>1.0</td>\n",
       "      <td>NaN</td>\n",
       "      <td>NaN</td>\n",
       "      <td>NaN</td>\n",
       "      <td>NaN</td>\n",
       "      <td>NaN</td>\n",
       "    </tr>\n",
       "    <tr>\n",
       "      <th>1</th>\n",
       "      <td>335982</td>\n",
       "      <td>2007/08</td>\n",
       "      <td>2008-04-18</td>\n",
       "      <td>M Chinnaswamy Stadium</td>\n",
       "      <td>1</td>\n",
       "      <td>0.2</td>\n",
       "      <td>Kolkata Knight Riders</td>\n",
       "      <td>Royal Challengers Bangalore</td>\n",
       "      <td>BB McCullum</td>\n",
       "      <td>SC Ganguly</td>\n",
       "      <td>...</td>\n",
       "      <td>0</td>\n",
       "      <td>NaN</td>\n",
       "      <td>NaN</td>\n",
       "      <td>NaN</td>\n",
       "      <td>NaN</td>\n",
       "      <td>NaN</td>\n",
       "      <td>NaN</td>\n",
       "      <td>NaN</td>\n",
       "      <td>NaN</td>\n",
       "      <td>NaN</td>\n",
       "    </tr>\n",
       "    <tr>\n",
       "      <th>2</th>\n",
       "      <td>335982</td>\n",
       "      <td>2007/08</td>\n",
       "      <td>2008-04-18</td>\n",
       "      <td>M Chinnaswamy Stadium</td>\n",
       "      <td>1</td>\n",
       "      <td>0.3</td>\n",
       "      <td>Kolkata Knight Riders</td>\n",
       "      <td>Royal Challengers Bangalore</td>\n",
       "      <td>BB McCullum</td>\n",
       "      <td>SC Ganguly</td>\n",
       "      <td>...</td>\n",
       "      <td>1</td>\n",
       "      <td>1.0</td>\n",
       "      <td>NaN</td>\n",
       "      <td>NaN</td>\n",
       "      <td>NaN</td>\n",
       "      <td>NaN</td>\n",
       "      <td>NaN</td>\n",
       "      <td>NaN</td>\n",
       "      <td>NaN</td>\n",
       "      <td>NaN</td>\n",
       "    </tr>\n",
       "    <tr>\n",
       "      <th>3</th>\n",
       "      <td>335982</td>\n",
       "      <td>2007/08</td>\n",
       "      <td>2008-04-18</td>\n",
       "      <td>M Chinnaswamy Stadium</td>\n",
       "      <td>1</td>\n",
       "      <td>0.4</td>\n",
       "      <td>Kolkata Knight Riders</td>\n",
       "      <td>Royal Challengers Bangalore</td>\n",
       "      <td>BB McCullum</td>\n",
       "      <td>SC Ganguly</td>\n",
       "      <td>...</td>\n",
       "      <td>0</td>\n",
       "      <td>NaN</td>\n",
       "      <td>NaN</td>\n",
       "      <td>NaN</td>\n",
       "      <td>NaN</td>\n",
       "      <td>NaN</td>\n",
       "      <td>NaN</td>\n",
       "      <td>NaN</td>\n",
       "      <td>NaN</td>\n",
       "      <td>NaN</td>\n",
       "    </tr>\n",
       "    <tr>\n",
       "      <th>4</th>\n",
       "      <td>335982</td>\n",
       "      <td>2007/08</td>\n",
       "      <td>2008-04-18</td>\n",
       "      <td>M Chinnaswamy Stadium</td>\n",
       "      <td>1</td>\n",
       "      <td>0.5</td>\n",
       "      <td>Kolkata Knight Riders</td>\n",
       "      <td>Royal Challengers Bangalore</td>\n",
       "      <td>BB McCullum</td>\n",
       "      <td>SC Ganguly</td>\n",
       "      <td>...</td>\n",
       "      <td>0</td>\n",
       "      <td>NaN</td>\n",
       "      <td>NaN</td>\n",
       "      <td>NaN</td>\n",
       "      <td>NaN</td>\n",
       "      <td>NaN</td>\n",
       "      <td>NaN</td>\n",
       "      <td>NaN</td>\n",
       "      <td>NaN</td>\n",
       "      <td>NaN</td>\n",
       "    </tr>\n",
       "  </tbody>\n",
       "</table>\n",
       "<p>5 rows × 22 columns</p>\n",
       "</div>"
      ],
      "text/plain": [
       "   match_id   season  start_date                  venue  innings  ball  \\\n",
       "0    335982  2007/08  2008-04-18  M Chinnaswamy Stadium        1   0.1   \n",
       "1    335982  2007/08  2008-04-18  M Chinnaswamy Stadium        1   0.2   \n",
       "2    335982  2007/08  2008-04-18  M Chinnaswamy Stadium        1   0.3   \n",
       "3    335982  2007/08  2008-04-18  M Chinnaswamy Stadium        1   0.4   \n",
       "4    335982  2007/08  2008-04-18  M Chinnaswamy Stadium        1   0.5   \n",
       "\n",
       "            batting_team                 bowling_team      striker  \\\n",
       "0  Kolkata Knight Riders  Royal Challengers Bangalore   SC Ganguly   \n",
       "1  Kolkata Knight Riders  Royal Challengers Bangalore  BB McCullum   \n",
       "2  Kolkata Knight Riders  Royal Challengers Bangalore  BB McCullum   \n",
       "3  Kolkata Knight Riders  Royal Challengers Bangalore  BB McCullum   \n",
       "4  Kolkata Knight Riders  Royal Challengers Bangalore  BB McCullum   \n",
       "\n",
       "   non_striker  ... extras  wides  noballs  byes  legbyes  penalty  \\\n",
       "0  BB McCullum  ...      1    NaN      NaN   NaN      1.0      NaN   \n",
       "1   SC Ganguly  ...      0    NaN      NaN   NaN      NaN      NaN   \n",
       "2   SC Ganguly  ...      1    1.0      NaN   NaN      NaN      NaN   \n",
       "3   SC Ganguly  ...      0    NaN      NaN   NaN      NaN      NaN   \n",
       "4   SC Ganguly  ...      0    NaN      NaN   NaN      NaN      NaN   \n",
       "\n",
       "   wicket_type  player_dismissed other_wicket_type other_player_dismissed  \n",
       "0          NaN               NaN               NaN                    NaN  \n",
       "1          NaN               NaN               NaN                    NaN  \n",
       "2          NaN               NaN               NaN                    NaN  \n",
       "3          NaN               NaN               NaN                    NaN  \n",
       "4          NaN               NaN               NaN                    NaN  \n",
       "\n",
       "[5 rows x 22 columns]"
      ]
     },
     "execution_count": 3,
     "metadata": {},
     "output_type": "execute_result"
    }
   ],
   "source": [
    "df.head()"
   ]
  },
  {
   "cell_type": "code",
   "execution_count": 4,
   "metadata": {},
   "outputs": [],
   "source": [
    "df_info = pd.read_csv('./archive/ipl_match_info_data.csv')"
   ]
  },
  {
   "cell_type": "code",
   "execution_count": 5,
   "metadata": {},
   "outputs": [
    {
     "data": {
      "text/html": [
       "<div>\n",
       "<style scoped>\n",
       "    .dataframe tbody tr th:only-of-type {\n",
       "        vertical-align: middle;\n",
       "    }\n",
       "\n",
       "    .dataframe tbody tr th {\n",
       "        vertical-align: top;\n",
       "    }\n",
       "\n",
       "    .dataframe thead th {\n",
       "        text-align: right;\n",
       "    }\n",
       "</style>\n",
       "<table border=\"1\" class=\"dataframe\">\n",
       "  <thead>\n",
       "    <tr style=\"text-align: right;\">\n",
       "      <th></th>\n",
       "      <th>match_id</th>\n",
       "      <th>season</th>\n",
       "      <th>date</th>\n",
       "      <th>city</th>\n",
       "      <th>venue</th>\n",
       "      <th>team1</th>\n",
       "      <th>team2</th>\n",
       "      <th>toss_winner</th>\n",
       "      <th>toss_decision</th>\n",
       "      <th>player_of_match</th>\n",
       "      <th>...</th>\n",
       "      <th>event</th>\n",
       "      <th>match_number</th>\n",
       "      <th>umpire1</th>\n",
       "      <th>umpire2</th>\n",
       "      <th>reserve_umpire</th>\n",
       "      <th>tv_umpire</th>\n",
       "      <th>match_referee</th>\n",
       "      <th>eliminator</th>\n",
       "      <th>method</th>\n",
       "      <th>date_1</th>\n",
       "    </tr>\n",
       "  </thead>\n",
       "  <tbody>\n",
       "    <tr>\n",
       "      <th>0</th>\n",
       "      <td>335982</td>\n",
       "      <td>2007/08</td>\n",
       "      <td>2008-04-18</td>\n",
       "      <td>Bangalore</td>\n",
       "      <td>M Chinnaswamy Stadium</td>\n",
       "      <td>Royal Challengers Bangalore</td>\n",
       "      <td>Kolkata Knight Riders</td>\n",
       "      <td>Royal Challengers Bangalore</td>\n",
       "      <td>field</td>\n",
       "      <td>BB McCullum</td>\n",
       "      <td>...</td>\n",
       "      <td>Indian Premier League</td>\n",
       "      <td>1.0</td>\n",
       "      <td>Asad Rauf</td>\n",
       "      <td>RE Koertzen</td>\n",
       "      <td>VN Kulkarni</td>\n",
       "      <td>AM Saheba</td>\n",
       "      <td>J Srinath</td>\n",
       "      <td>NaN</td>\n",
       "      <td>NaN</td>\n",
       "      <td>NaN</td>\n",
       "    </tr>\n",
       "    <tr>\n",
       "      <th>1</th>\n",
       "      <td>335983</td>\n",
       "      <td>2007/08</td>\n",
       "      <td>2008-04-19</td>\n",
       "      <td>Chandigarh</td>\n",
       "      <td>Punjab Cricket Association Stadium, Mohali</td>\n",
       "      <td>Kings XI Punjab</td>\n",
       "      <td>Chennai Super Kings</td>\n",
       "      <td>Chennai Super Kings</td>\n",
       "      <td>bat</td>\n",
       "      <td>MEK Hussey</td>\n",
       "      <td>...</td>\n",
       "      <td>Indian Premier League</td>\n",
       "      <td>2.0</td>\n",
       "      <td>MR Benson</td>\n",
       "      <td>SL Shastri</td>\n",
       "      <td>MSS Ranawat</td>\n",
       "      <td>RB Tiffin</td>\n",
       "      <td>S Venkataraghavan</td>\n",
       "      <td>NaN</td>\n",
       "      <td>NaN</td>\n",
       "      <td>NaN</td>\n",
       "    </tr>\n",
       "    <tr>\n",
       "      <th>2</th>\n",
       "      <td>335984</td>\n",
       "      <td>2007/08</td>\n",
       "      <td>2008-04-19</td>\n",
       "      <td>Delhi</td>\n",
       "      <td>Feroz Shah Kotla</td>\n",
       "      <td>Delhi Daredevils</td>\n",
       "      <td>Rajasthan Royals</td>\n",
       "      <td>Rajasthan Royals</td>\n",
       "      <td>bat</td>\n",
       "      <td>MF Maharoof</td>\n",
       "      <td>...</td>\n",
       "      <td>Indian Premier League</td>\n",
       "      <td>3.0</td>\n",
       "      <td>Aleem Dar</td>\n",
       "      <td>GA Pratapkumar</td>\n",
       "      <td>NaN</td>\n",
       "      <td>IL Howell</td>\n",
       "      <td>GR Viswanath</td>\n",
       "      <td>NaN</td>\n",
       "      <td>NaN</td>\n",
       "      <td>NaN</td>\n",
       "    </tr>\n",
       "    <tr>\n",
       "      <th>3</th>\n",
       "      <td>335985</td>\n",
       "      <td>2007/08</td>\n",
       "      <td>2008-04-20</td>\n",
       "      <td>Mumbai</td>\n",
       "      <td>Wankhede Stadium</td>\n",
       "      <td>Mumbai Indians</td>\n",
       "      <td>Royal Challengers Bangalore</td>\n",
       "      <td>Mumbai Indians</td>\n",
       "      <td>bat</td>\n",
       "      <td>MV Boucher</td>\n",
       "      <td>...</td>\n",
       "      <td>Indian Premier League</td>\n",
       "      <td>5.0</td>\n",
       "      <td>SJ Davis</td>\n",
       "      <td>DJ Harper</td>\n",
       "      <td>SN Bandekar</td>\n",
       "      <td>AV Jayaprakash</td>\n",
       "      <td>J Srinath</td>\n",
       "      <td>NaN</td>\n",
       "      <td>NaN</td>\n",
       "      <td>NaN</td>\n",
       "    </tr>\n",
       "    <tr>\n",
       "      <th>4</th>\n",
       "      <td>335986</td>\n",
       "      <td>2007/08</td>\n",
       "      <td>2008-04-20</td>\n",
       "      <td>Kolkata</td>\n",
       "      <td>Eden Gardens</td>\n",
       "      <td>Kolkata Knight Riders</td>\n",
       "      <td>Deccan Chargers</td>\n",
       "      <td>Deccan Chargers</td>\n",
       "      <td>bat</td>\n",
       "      <td>DJ Hussey</td>\n",
       "      <td>...</td>\n",
       "      <td>Indian Premier League</td>\n",
       "      <td>4.0</td>\n",
       "      <td>BF Bowden</td>\n",
       "      <td>K Hariharan</td>\n",
       "      <td>F Gomes</td>\n",
       "      <td>Asad Rauf</td>\n",
       "      <td>FM Engineer</td>\n",
       "      <td>NaN</td>\n",
       "      <td>NaN</td>\n",
       "      <td>NaN</td>\n",
       "    </tr>\n",
       "  </tbody>\n",
       "</table>\n",
       "<p>5 rows × 27 columns</p>\n",
       "</div>"
      ],
      "text/plain": [
       "   match_id   season        date        city  \\\n",
       "0    335982  2007/08  2008-04-18   Bangalore   \n",
       "1    335983  2007/08  2008-04-19  Chandigarh   \n",
       "2    335984  2007/08  2008-04-19       Delhi   \n",
       "3    335985  2007/08  2008-04-20      Mumbai   \n",
       "4    335986  2007/08  2008-04-20     Kolkata   \n",
       "\n",
       "                                        venue                        team1  \\\n",
       "0                       M Chinnaswamy Stadium  Royal Challengers Bangalore   \n",
       "1  Punjab Cricket Association Stadium, Mohali              Kings XI Punjab   \n",
       "2                            Feroz Shah Kotla             Delhi Daredevils   \n",
       "3                            Wankhede Stadium               Mumbai Indians   \n",
       "4                                Eden Gardens        Kolkata Knight Riders   \n",
       "\n",
       "                         team2                  toss_winner toss_decision  \\\n",
       "0        Kolkata Knight Riders  Royal Challengers Bangalore         field   \n",
       "1          Chennai Super Kings          Chennai Super Kings           bat   \n",
       "2             Rajasthan Royals             Rajasthan Royals           bat   \n",
       "3  Royal Challengers Bangalore               Mumbai Indians           bat   \n",
       "4              Deccan Chargers              Deccan Chargers           bat   \n",
       "\n",
       "  player_of_match  ...                  event  match_number    umpire1  \\\n",
       "0     BB McCullum  ...  Indian Premier League           1.0  Asad Rauf   \n",
       "1      MEK Hussey  ...  Indian Premier League           2.0  MR Benson   \n",
       "2     MF Maharoof  ...  Indian Premier League           3.0  Aleem Dar   \n",
       "3      MV Boucher  ...  Indian Premier League           5.0   SJ Davis   \n",
       "4       DJ Hussey  ...  Indian Premier League           4.0  BF Bowden   \n",
       "\n",
       "          umpire2 reserve_umpire       tv_umpire      match_referee  \\\n",
       "0     RE Koertzen    VN Kulkarni       AM Saheba          J Srinath   \n",
       "1      SL Shastri    MSS Ranawat       RB Tiffin  S Venkataraghavan   \n",
       "2  GA Pratapkumar            NaN       IL Howell       GR Viswanath   \n",
       "3       DJ Harper    SN Bandekar  AV Jayaprakash          J Srinath   \n",
       "4     K Hariharan        F Gomes       Asad Rauf        FM Engineer   \n",
       "\n",
       "  eliminator  method date_1  \n",
       "0        NaN     NaN    NaN  \n",
       "1        NaN     NaN    NaN  \n",
       "2        NaN     NaN    NaN  \n",
       "3        NaN     NaN    NaN  \n",
       "4        NaN     NaN    NaN  \n",
       "\n",
       "[5 rows x 27 columns]"
      ]
     },
     "execution_count": 5,
     "metadata": {},
     "output_type": "execute_result"
    }
   ],
   "source": [
    "df_info.head()"
   ]
  },
  {
   "cell_type": "markdown",
   "metadata": {},
   "source": [
    "### Checking for missing values"
   ]
  },
  {
   "cell_type": "code",
   "execution_count": 6,
   "metadata": {},
   "outputs": [
    {
     "name": "stdout",
     "output_type": "stream",
     "text": [
      "-------- Match Dataset --------\n",
      "\n"
     ]
    },
    {
     "data": {
      "text/plain": [
       "match_id                       0\n",
       "season                         0\n",
       "start_date                     0\n",
       "venue                          0\n",
       "innings                        0\n",
       "ball                           0\n",
       "batting_team                   0\n",
       "bowling_team                   0\n",
       "striker                        0\n",
       "non_striker                    0\n",
       "bowler                         0\n",
       "runs_off_bat                   0\n",
       "extras                         0\n",
       "wides                     218928\n",
       "noballs                   225036\n",
       "byes                      225371\n",
       "legbyes                   222423\n",
       "penalty                   225952\n",
       "wicket_type               214803\n",
       "player_dismissed          214803\n",
       "other_wicket_type         225954\n",
       "other_player_dismissed    225954\n",
       "dtype: int64"
      ]
     },
     "execution_count": 6,
     "metadata": {},
     "output_type": "execute_result"
    }
   ],
   "source": [
    "print(\"-------- Match Dataset --------\\n\")\n",
    "df.isna().sum()"
   ]
  },
  {
   "cell_type": "code",
   "execution_count": 7,
   "metadata": {},
   "outputs": [
    {
     "name": "stdout",
     "output_type": "stream",
     "text": [
      "-------- Match Info --------\n",
      "\n"
     ]
    },
    {
     "data": {
      "text/plain": [
       "match_id             0\n",
       "season               0\n",
       "date                 0\n",
       "city                51\n",
       "venue                0\n",
       "team1                0\n",
       "team2                0\n",
       "toss_winner          0\n",
       "toss_decision        0\n",
       "player_of_match      4\n",
       "winner              18\n",
       "winner_wickets       0\n",
       "winner_runs          0\n",
       "outcome            932\n",
       "result_type          0\n",
       "results              0\n",
       "gender               0\n",
       "event                0\n",
       "match_number        58\n",
       "umpire1              0\n",
       "umpire2              0\n",
       "reserve_umpire      24\n",
       "tv_umpire            3\n",
       "match_referee        0\n",
       "eliminator         936\n",
       "method             931\n",
       "date_1             948\n",
       "dtype: int64"
      ]
     },
     "execution_count": 7,
     "metadata": {},
     "output_type": "execute_result"
    }
   ],
   "source": [
    "print(\"-------- Match Info --------\\n\")\n",
    "df_info.isna().sum()"
   ]
  },
  {
   "cell_type": "markdown",
   "metadata": {},
   "source": [
    "### Datatypes"
   ]
  },
  {
   "cell_type": "code",
   "execution_count": 8,
   "metadata": {},
   "outputs": [
    {
     "name": "stdout",
     "output_type": "stream",
     "text": [
      "-------- Match Dataset --------\n",
      "\n",
      "<class 'pandas.core.frame.DataFrame'>\n",
      "RangeIndex: 225954 entries, 0 to 225953\n",
      "Data columns (total 22 columns):\n",
      " #   Column                  Non-Null Count   Dtype  \n",
      "---  ------                  --------------   -----  \n",
      " 0   match_id                225954 non-null  int64  \n",
      " 1   season                  225954 non-null  object \n",
      " 2   start_date              225954 non-null  object \n",
      " 3   venue                   225954 non-null  object \n",
      " 4   innings                 225954 non-null  int64  \n",
      " 5   ball                    225954 non-null  float64\n",
      " 6   batting_team            225954 non-null  object \n",
      " 7   bowling_team            225954 non-null  object \n",
      " 8   striker                 225954 non-null  object \n",
      " 9   non_striker             225954 non-null  object \n",
      " 10  bowler                  225954 non-null  object \n",
      " 11  runs_off_bat            225954 non-null  int64  \n",
      " 12  extras                  225954 non-null  int64  \n",
      " 13  wides                   7026 non-null    float64\n",
      " 14  noballs                 918 non-null     float64\n",
      " 15  byes                    583 non-null     float64\n",
      " 16  legbyes                 3531 non-null    float64\n",
      " 17  penalty                 2 non-null       float64\n",
      " 18  wicket_type             11151 non-null   object \n",
      " 19  player_dismissed        11151 non-null   object \n",
      " 20  other_wicket_type       0 non-null       float64\n",
      " 21  other_player_dismissed  0 non-null       float64\n",
      "dtypes: float64(8), int64(4), object(10)\n",
      "memory usage: 37.9+ MB\n"
     ]
    }
   ],
   "source": [
    "print(\"-------- Match Dataset --------\\n\")\n",
    "df.info()"
   ]
  },
  {
   "cell_type": "code",
   "execution_count": 9,
   "metadata": {},
   "outputs": [
    {
     "name": "stdout",
     "output_type": "stream",
     "text": [
      "-------- Match Info --------\n",
      "\n",
      "<class 'pandas.core.frame.DataFrame'>\n",
      "RangeIndex: 950 entries, 0 to 949\n",
      "Data columns (total 27 columns):\n",
      " #   Column           Non-Null Count  Dtype  \n",
      "---  ------           --------------  -----  \n",
      " 0   match_id         950 non-null    int64  \n",
      " 1   season           950 non-null    object \n",
      " 2   date             950 non-null    object \n",
      " 3   city             899 non-null    object \n",
      " 4   venue            950 non-null    object \n",
      " 5   team1            950 non-null    object \n",
      " 6   team2            950 non-null    object \n",
      " 7   toss_winner      950 non-null    object \n",
      " 8   toss_decision    950 non-null    object \n",
      " 9   player_of_match  946 non-null    object \n",
      " 10  winner           932 non-null    object \n",
      " 11  winner_wickets   950 non-null    int64  \n",
      " 12  winner_runs      950 non-null    int64  \n",
      " 13  outcome          18 non-null     object \n",
      " 14  result_type      950 non-null    object \n",
      " 15  results          950 non-null    int64  \n",
      " 16  gender           950 non-null    object \n",
      " 17  event            950 non-null    object \n",
      " 18  match_number     892 non-null    float64\n",
      " 19  umpire1          950 non-null    object \n",
      " 20  umpire2          950 non-null    object \n",
      " 21  reserve_umpire   926 non-null    object \n",
      " 22  tv_umpire        947 non-null    object \n",
      " 23  match_referee    950 non-null    object \n",
      " 24  eliminator       14 non-null     object \n",
      " 25  method           19 non-null     object \n",
      " 26  date_1           2 non-null      object \n",
      "dtypes: float64(1), int64(4), object(22)\n",
      "memory usage: 200.5+ KB\n"
     ]
    }
   ],
   "source": [
    "print(\"-------- Match Info --------\\n\")\n",
    "df_info.info()"
   ]
  },
  {
   "cell_type": "markdown",
   "metadata": {},
   "source": [
    "### Unique Values"
   ]
  },
  {
   "cell_type": "code",
   "execution_count": 10,
   "metadata": {},
   "outputs": [
    {
     "name": "stdout",
     "output_type": "stream",
     "text": [
      "-------- Match Dataset --------\n",
      "\n"
     ]
    },
    {
     "data": {
      "text/plain": [
       "match_id                  950\n",
       "season                     19\n",
       "start_date                706\n",
       "venue                      49\n",
       "innings                     6\n",
       "ball                      180\n",
       "batting_team               18\n",
       "bowling_team               18\n",
       "striker                   605\n",
       "non_striker               595\n",
       "bowler                    473\n",
       "runs_off_bat                7\n",
       "extras                      7\n",
       "wides                       5\n",
       "noballs                     4\n",
       "byes                        4\n",
       "legbyes                     5\n",
       "penalty                     1\n",
       "wicket_type                10\n",
       "player_dismissed          573\n",
       "other_wicket_type           0\n",
       "other_player_dismissed      0\n",
       "dtype: int64"
      ]
     },
     "execution_count": 10,
     "metadata": {},
     "output_type": "execute_result"
    }
   ],
   "source": [
    "print(\"-------- Match Dataset --------\\n\")\n",
    "df.nunique()"
   ]
  },
  {
   "cell_type": "markdown",
   "metadata": {},
   "source": [
    "### Columns classification"
   ]
  },
  {
   "cell_type": "code",
   "execution_count": 11,
   "metadata": {},
   "outputs": [
    {
     "name": "stdout",
     "output_type": "stream",
     "text": [
      "-------- Match Dataset --------\n",
      "\n",
      "12 numerical columns(features) : ['match_id', 'innings', 'ball', 'runs_off_bat', 'extras', 'wides', 'noballs', 'byes', 'legbyes', 'penalty', 'other_wicket_type', 'other_player_dismissed']\n",
      "\n",
      "10 categorical columns(features) : ['season', 'start_date', 'venue', 'batting_team', 'bowling_team', 'striker', 'non_striker', 'bowler', 'wicket_type', 'player_dismissed']\n"
     ]
    }
   ],
   "source": [
    "print(\"-------- Match Dataset --------\\n\")\n",
    "\n",
    "numeric_columns = [column for column in df.columns if df[column].dtype != 'O']\n",
    "categorical_columns = [column for column in df.columns if df[column].dtype == 'O']\n",
    "\n",
    "print('{} numerical columns(features) : {}'.format(len(numeric_columns), numeric_columns))\n",
    "print('\\n{} categorical columns(features) : {}'.format(len(categorical_columns), categorical_columns))"
   ]
  },
  {
   "cell_type": "markdown",
   "metadata": {},
   "source": [
    "### Teams"
   ]
  },
  {
   "cell_type": "code",
   "execution_count": 12,
   "metadata": {},
   "outputs": [
    {
     "name": "stdout",
     "output_type": "stream",
     "text": [
      "-------- Match Dataset --------\n",
      "Batting Team Name: 18\n",
      "['Kolkata Knight Riders' 'Royal Challengers Bangalore'\n",
      " 'Chennai Super Kings' 'Kings XI Punjab' 'Rajasthan Royals'\n",
      " 'Delhi Daredevils' 'Deccan Chargers' 'Mumbai Indians'\n",
      " 'Kochi Tuskers Kerala' 'Pune Warriors' 'Sunrisers Hyderabad'\n",
      " 'Rising Pune Supergiants' 'Gujarat Lions' 'Rising Pune Supergiant'\n",
      " 'Delhi Capitals' 'Punjab Kings' 'Lucknow Super Giants' 'Gujarat Titans']\n",
      "\n",
      "Bowling Team Name: 18\n",
      "['Royal Challengers Bangalore' 'Kolkata Knight Riders' 'Kings XI Punjab'\n",
      " 'Chennai Super Kings' 'Delhi Daredevils' 'Rajasthan Royals'\n",
      " 'Deccan Chargers' 'Mumbai Indians' 'Kochi Tuskers Kerala' 'Pune Warriors'\n",
      " 'Sunrisers Hyderabad' 'Rising Pune Supergiants' 'Gujarat Lions'\n",
      " 'Rising Pune Supergiant' 'Delhi Capitals' 'Punjab Kings' 'Gujarat Titans'\n",
      " 'Lucknow Super Giants']\n"
     ]
    }
   ],
   "source": [
    "print(\"-------- Match Dataset --------\")\n",
    "print(\"Batting Team Name: {}\".format(df['batting_team'].nunique()))\n",
    "print(df['batting_team'].unique())\n",
    "print(\"\\nBowling Team Name: {}\".format(df['bowling_team'].nunique()))\n",
    "print(df['bowling_team'].unique())"
   ]
  },
  {
   "cell_type": "markdown",
   "metadata": {},
   "source": [
    "### Replacing new names with old names"
   ]
  },
  {
   "cell_type": "code",
   "execution_count": 13,
   "metadata": {},
   "outputs": [
    {
     "name": "stderr",
     "output_type": "stream",
     "text": [
      "/tmp/ipykernel_14610/496512057.py:3: FutureWarning: A value is trying to be set on a copy of a DataFrame or Series through chained assignment using an inplace method.\n",
      "The behavior will change in pandas 3.0. This inplace method will never work because the intermediate object on which we are setting values always behaves as a copy.\n",
      "\n",
      "For example, when doing 'df[col].method(value, inplace=True)', try using 'df.method({col: value}, inplace=True)' or df[col] = df[col].method(value) instead, to perform the operation inplace on the original object.\n",
      "\n",
      "\n",
      "  df['batting_team'].replace(replace_dict,inplace=True)\n",
      "/tmp/ipykernel_14610/496512057.py:4: FutureWarning: A value is trying to be set on a copy of a DataFrame or Series through chained assignment using an inplace method.\n",
      "The behavior will change in pandas 3.0. This inplace method will never work because the intermediate object on which we are setting values always behaves as a copy.\n",
      "\n",
      "For example, when doing 'df[col].method(value, inplace=True)', try using 'df.method({col: value}, inplace=True)' or df[col] = df[col].method(value) instead, to perform the operation inplace on the original object.\n",
      "\n",
      "\n",
      "  df['bowling_team'].replace(replace_dict,inplace=True)\n",
      "/tmp/ipykernel_14610/496512057.py:6: FutureWarning: A value is trying to be set on a copy of a DataFrame or Series through chained assignment using an inplace method.\n",
      "The behavior will change in pandas 3.0. This inplace method will never work because the intermediate object on which we are setting values always behaves as a copy.\n",
      "\n",
      "For example, when doing 'df[col].method(value, inplace=True)', try using 'df.method({col: value}, inplace=True)' or df[col] = df[col].method(value) instead, to perform the operation inplace on the original object.\n",
      "\n",
      "\n",
      "  df_info['team1'].replace(replace_dict,inplace=True)\n",
      "/tmp/ipykernel_14610/496512057.py:7: FutureWarning: A value is trying to be set on a copy of a DataFrame or Series through chained assignment using an inplace method.\n",
      "The behavior will change in pandas 3.0. This inplace method will never work because the intermediate object on which we are setting values always behaves as a copy.\n",
      "\n",
      "For example, when doing 'df[col].method(value, inplace=True)', try using 'df.method({col: value}, inplace=True)' or df[col] = df[col].method(value) instead, to perform the operation inplace on the original object.\n",
      "\n",
      "\n",
      "  df_info['team2'].replace(replace_dict,inplace=True)\n",
      "/tmp/ipykernel_14610/496512057.py:8: FutureWarning: A value is trying to be set on a copy of a DataFrame or Series through chained assignment using an inplace method.\n",
      "The behavior will change in pandas 3.0. This inplace method will never work because the intermediate object on which we are setting values always behaves as a copy.\n",
      "\n",
      "For example, when doing 'df[col].method(value, inplace=True)', try using 'df.method({col: value}, inplace=True)' or df[col] = df[col].method(value) instead, to perform the operation inplace on the original object.\n",
      "\n",
      "\n",
      "  df_info['toss_winner'].replace(replace_dict,inplace=True)\n",
      "/tmp/ipykernel_14610/496512057.py:9: FutureWarning: A value is trying to be set on a copy of a DataFrame or Series through chained assignment using an inplace method.\n",
      "The behavior will change in pandas 3.0. This inplace method will never work because the intermediate object on which we are setting values always behaves as a copy.\n",
      "\n",
      "For example, when doing 'df[col].method(value, inplace=True)', try using 'df.method({col: value}, inplace=True)' or df[col] = df[col].method(value) instead, to perform the operation inplace on the original object.\n",
      "\n",
      "\n",
      "  df_info['winner'].replace(replace_dict,inplace=True)\n"
     ]
    }
   ],
   "source": [
    "replace_dict = {'Delhi Daredevils': 'Delhi Capitals','Deccan Chargers':'Sunrisers Hyderabad','Pune Warriors':'Rising Pune Supergiants','Rising Pune Supergiant':'Rising Pune Supergiants','Gujarat Lions':'Gujarat Titans','Kings XI Punjab':'Punjab Kings'}\n",
    "## Match Dataset\n",
    "df['batting_team'].replace(replace_dict,inplace=True)\n",
    "df['bowling_team'].replace(replace_dict,inplace=True)\n",
    "## Match info\n",
    "df_info['team1'].replace(replace_dict,inplace=True)\n",
    "df_info['team2'].replace(replace_dict,inplace=True)\n",
    "df_info['toss_winner'].replace(replace_dict,inplace=True)\n",
    "df_info['winner'].replace(replace_dict,inplace=True)"
   ]
  },
  {
   "cell_type": "markdown",
   "metadata": {},
   "source": [
    "### Team names conversion into it's short name"
   ]
  },
  {
   "cell_type": "code",
   "execution_count": 14,
   "metadata": {},
   "outputs": [],
   "source": [
    "short_name = {'Kolkata Knight Riders': 'KKR',\n",
    "              'Royal Challengers Bangalore':'RCB',\n",
    "              'Chennai Super Kings':'CSK',\n",
    "              'Punjab Kings':'PBKS',\n",
    "              'Rajasthan Royals':'RR',\n",
    "              'Delhi Capitals':'DC',\n",
    "              'Sunrisers Hyderabad':'SRH',\n",
    "              'Mumbai Indians':'MI',\n",
    "              'Kochi Tuskers Kerala':'KTK',\n",
    "              'Rising Pune Supergiants':'RPSG',\n",
    "              'Gujarat Titans':'GT',\n",
    "              'Lucknow Super Giants':'LSG'}\n",
    "\n",
    "df['batting_team_short_name'] = df['batting_team'].map(short_name)\n",
    "df['bowling_team_short_name'] = df['bowling_team'].map(short_name)"
   ]
  },
  {
   "cell_type": "markdown",
   "metadata": {},
   "source": [
    "### Renaming columns"
   ]
  },
  {
   "cell_type": "code",
   "execution_count": 15,
   "metadata": {},
   "outputs": [],
   "source": [
    "## Match Dataset\n",
    "df = df.rename(columns={'venue': 'stadium'})\n",
    "df = df.rename(columns={'ball': 'over'})\n",
    "\n",
    "## Match info\n",
    "df_info = df_info.rename(columns={'venue': 'stadium'})"
   ]
  },
  {
   "cell_type": "code",
   "execution_count": 16,
   "metadata": {},
   "outputs": [
    {
     "name": "stdout",
     "output_type": "stream",
     "text": [
      "stadium: 49\n",
      "['M Chinnaswamy Stadium' 'Punjab Cricket Association Stadium, Mohali'\n",
      " 'Feroz Shah Kotla' 'Eden Gardens' 'Wankhede Stadium'\n",
      " 'Sawai Mansingh Stadium' 'Rajiv Gandhi International Stadium, Uppal'\n",
      " 'MA Chidambaram Stadium, Chepauk' 'Dr DY Patil Sports Academy' 'Newlands'\n",
      " \"St George's Park\" 'Kingsmead' 'SuperSport Park' 'Buffalo Park'\n",
      " 'New Wanderers Stadium' 'De Beers Diamond Oval' 'OUTsurance Oval'\n",
      " 'Brabourne Stadium' 'Sardar Patel Stadium, Motera' 'Barabati Stadium'\n",
      " 'Brabourne Stadium, Mumbai'\n",
      " 'Vidarbha Cricket Association Stadium, Jamtha'\n",
      " 'Himachal Pradesh Cricket Association Stadium' 'Nehru Stadium'\n",
      " 'Holkar Cricket Stadium'\n",
      " 'Dr. Y.S. Rajasekhara Reddy ACA-VDCA Cricket Stadium'\n",
      " 'Subrata Roy Sahara Stadium' 'Maharashtra Cricket Association Stadium'\n",
      " 'Shaheed Veer Narayan Singh International Stadium'\n",
      " 'JSCA International Stadium Complex' 'Sheikh Zayed Stadium'\n",
      " 'Sharjah Cricket Stadium' 'Dubai International Cricket Stadium'\n",
      " 'Punjab Cricket Association IS Bindra Stadium, Mohali'\n",
      " 'Saurashtra Cricket Association Stadium' 'Green Park'\n",
      " 'M.Chinnaswamy Stadium' 'MA Chidambaram Stadium' 'Arun Jaitley Stadium'\n",
      " 'Rajiv Gandhi International Stadium'\n",
      " 'Punjab Cricket Association IS Bindra Stadium'\n",
      " 'MA Chidambaram Stadium, Chepauk, Chennai' 'Wankhede Stadium, Mumbai'\n",
      " 'Narendra Modi Stadium, Ahmedabad' 'Arun Jaitley Stadium, Delhi'\n",
      " 'Zayed Cricket Stadium, Abu Dhabi' 'Dr DY Patil Sports Academy, Mumbai'\n",
      " 'Maharashtra Cricket Association Stadium, Pune' 'Eden Gardens, Kolkata']\n"
     ]
    }
   ],
   "source": [
    "print(\"stadium: {}\".format(df['stadium'].nunique()))\n",
    "print(df['stadium'].unique())"
   ]
  },
  {
   "cell_type": "markdown",
   "metadata": {},
   "source": [
    "### Adding venue column"
   ]
  },
  {
   "cell_type": "code",
   "execution_count": 17,
   "metadata": {},
   "outputs": [],
   "source": [
    "venue_stadium = {'M Chinnaswamy Stadium':'Bengaluru',\n",
    "         'Punjab Cricket Association Stadium, Mohali':'Mohali',\n",
    "         'Feroz Shah Kotla':'Delhi',\n",
    "         'Eden Gardens': 'Kolkata',\n",
    "         'Wankhede Stadium' : 'Mumbai',\n",
    "         'Sawai Mansingh Stadium': 'Jaipur',\n",
    "         'Rajiv Gandhi International Stadium, Uppal':'Hyderabad',\n",
    "         'MA Chidambaram Stadium, Chepauk': 'Chennai',\n",
    "         'Dr DY Patil Sports Academy' : 'Mumbai',\n",
    "         'Newlands': 'Cape Town, South Africa',\n",
    "         \"St George's Park\" : 'Gqeberha, South Africa',\n",
    "        'Kingsmead' : 'Durban, KwaZulu-Natal, South Africa',\n",
    "        'SuperSport Park' : 'Centurion, South Africa',\n",
    "         'Buffalo Park': 'East London, Eastern Cape, South Africa',\n",
    "          'New Wanderers Stadium':'Johannesburg, South Africa',\n",
    "         'De Beers Diamond Oval' : 'Kimberley, South Africa',\n",
    "         'OUTsurance Oval': 'Bloemfontein, South Africa',\n",
    "         'Brabourne Stadium':'Mumbai',\n",
    "         'Brabourne Stadium, Mumbai':'Mumbai',\n",
    "         'Sardar Patel Stadium, Motera':'Ahmedabad',\n",
    "         'Barabati Stadium':'Cuttack',\n",
    "         'Vidarbha Cricket Association Stadium, Jamtha':'Jamtha',\n",
    "         'Himachal Pradesh Cricket Association Stadium' :'Dharamshala',\n",
    "         'Nehru Stadium':'Delhi',\n",
    "         'Holkar Cricket Stadium': 'Indore',\n",
    "         'Dr. Y.S. Rajasekhara Reddy ACA-VDCA Cricket Stadium' :'Visakhapatnam',\n",
    "         'Subrata Roy Sahara Stadium' : 'Pune',\n",
    "         'Maharashtra Cricket Association Stadium': 'Pune',\n",
    "         'Maharashtra Cricket Association Stadium' : 'Pune',\n",
    "         'Shaheed Veer Narayan Singh International Stadium': 'Raipur',\n",
    "         'JSCA International Stadium Complex': 'Ranchi',\n",
    "         'Sheikh Zayed Stadium' :'Abu Dhabi, UAE',\n",
    "         'Sharjah Cricket Stadium' :'Sharjah, UAE',\n",
    "         'Dubai International Cricket Stadium' : 'Dubai, UAE',\n",
    "         'Punjab Cricket Association IS Bindra Stadium, Mohali' : 'Mohali',\n",
    "         'Saurashtra Cricket Association Stadium': 'Rajkot',\n",
    "         'Green Park' :'Kanpur',\n",
    "         'M.Chinnaswamy Stadium' : 'Bengaluru',\n",
    "         'MA Chidambaram Stadium': 'Chennai',\n",
    "         'Arun Jaitley Stadium' : 'Delhi',\n",
    "         'Rajiv Gandhi International Stadium':'Hyderabad',\n",
    "         'Punjab Cricket Association IS Bindra Stadium': 'Mohali',\n",
    "         'MA Chidambaram Stadium, Chepauk, Chennai': 'Chennai',\n",
    "         'Wankhede Stadium, Mumbai': 'Mumbai',\n",
    "         'Narendra Modi Stadium, Ahmedabad':'Ahmedabad',\n",
    "         'Arun Jaitley Stadium, Delhi':'Delhi', \n",
    "         'Zayed Cricket Stadium, Abu Dhabi' : 'Abu Dhabi, UAE',\n",
    "         'Dr DY Patil Sports Academy, Mumbai' : 'Mumbai',\n",
    "         'Maharashtra Cricket Association Stadium, Pune' : 'Pune',\n",
    "         'Eden Gardens, Kolkata': 'Kolkata'\n",
    "        }\n",
    "## Match Datset\n",
    "df['venue'] = df['stadium'].map(venue_stadium)\n",
    "\n",
    "## Match info\n",
    "df_info['venue'] = df_info['stadium'].map(venue_stadium)"
   ]
  },
  {
   "cell_type": "markdown",
   "metadata": {},
   "source": [
    "### Date formatting"
   ]
  },
  {
   "cell_type": "code",
   "execution_count": 18,
   "metadata": {},
   "outputs": [],
   "source": [
    "## Match Dataset\n",
    "df['start_date'] = df['start_date'].apply(lambda x: datetime.strptime(x, '%Y-%m-%d'))\n",
    "\n",
    "## Match info\n",
    "df_info['date'] = df_info['date'].apply(lambda x: datetime.strptime(x, '%Y-%m-%d'))"
   ]
  },
  {
   "cell_type": "markdown",
   "metadata": {},
   "source": [
    "### Calculating total runs"
   ]
  },
  {
   "cell_type": "code",
   "execution_count": 19,
   "metadata": {},
   "outputs": [],
   "source": [
    "df['total_run'] = df['runs_off_bat'] +df['extras']"
   ]
  },
  {
   "cell_type": "code",
   "execution_count": 20,
   "metadata": {},
   "outputs": [],
   "source": [
    "df['final_total_runs'] = 0\n",
    "\n",
    "total_runs = df.groupby(['match_id', 'innings'])['total_run'].sum().reset_index()\n",
    "\n",
    "for i, row in total_runs.iterrows():\n",
    "    df.loc[(df['match_id'] == row['match_id']) & (df['innings'] == row['innings']), 'final_total_runs'] = row['total_run']"
   ]
  },
  {
   "cell_type": "markdown",
   "metadata": {},
   "source": [
    "### Wickets"
   ]
  },
  {
   "cell_type": "code",
   "execution_count": 21,
   "metadata": {},
   "outputs": [],
   "source": [
    "df['is_wicket'] = df['wicket_type'].apply(lambda x: 1 if pd.notnull(x) and x != '' else 0)"
   ]
  },
  {
   "cell_type": "markdown",
   "metadata": {},
   "source": [
    "### Total runs and wickets till now"
   ]
  },
  {
   "cell_type": "code",
   "execution_count": 22,
   "metadata": {},
   "outputs": [],
   "source": [
    "grouped = df.groupby([\"match_id\", \"innings\"])\n",
    "\n",
    "df[\"wickets\"] = grouped[\"is_wicket\"].cumsum()\n",
    "df[\"runs\"] = grouped[\"total_run\"].cumsum()"
   ]
  },
  {
   "cell_type": "code",
   "execution_count": 23,
   "metadata": {},
   "outputs": [
    {
     "data": {
      "text/html": [
       "<div>\n",
       "<style scoped>\n",
       "    .dataframe tbody tr th:only-of-type {\n",
       "        vertical-align: middle;\n",
       "    }\n",
       "\n",
       "    .dataframe tbody tr th {\n",
       "        vertical-align: top;\n",
       "    }\n",
       "\n",
       "    .dataframe thead th {\n",
       "        text-align: right;\n",
       "    }\n",
       "</style>\n",
       "<table border=\"1\" class=\"dataframe\">\n",
       "  <thead>\n",
       "    <tr style=\"text-align: right;\">\n",
       "      <th></th>\n",
       "      <th>match_id</th>\n",
       "      <th>stadium</th>\n",
       "      <th>venue</th>\n",
       "    </tr>\n",
       "  </thead>\n",
       "  <tbody>\n",
       "    <tr>\n",
       "      <th>22444</th>\n",
       "      <td>392220</td>\n",
       "      <td>De Beers Diamond Oval</td>\n",
       "      <td>Kimberley, South Africa</td>\n",
       "    </tr>\n",
       "    <tr>\n",
       "      <th>68174</th>\n",
       "      <td>548348</td>\n",
       "      <td>Barabati Stadium</td>\n",
       "      <td>Cuttack</td>\n",
       "    </tr>\n",
       "    <tr>\n",
       "      <th>214460</th>\n",
       "      <td>1304073</td>\n",
       "      <td>Wankhede Stadium, Mumbai</td>\n",
       "      <td>Mumbai</td>\n",
       "    </tr>\n",
       "    <tr>\n",
       "      <th>95093</th>\n",
       "      <td>729283</td>\n",
       "      <td>Sheikh Zayed Stadium</td>\n",
       "      <td>Abu Dhabi, UAE</td>\n",
       "    </tr>\n",
       "    <tr>\n",
       "      <th>115151</th>\n",
       "      <td>829765</td>\n",
       "      <td>MA Chidambaram Stadium, Chepauk</td>\n",
       "      <td>Chennai</td>\n",
       "    </tr>\n",
       "    <tr>\n",
       "      <th>210107</th>\n",
       "      <td>1304055</td>\n",
       "      <td>Dr DY Patil Sports Academy, Mumbai</td>\n",
       "      <td>Mumbai</td>\n",
       "    </tr>\n",
       "    <tr>\n",
       "      <th>57339</th>\n",
       "      <td>501266</td>\n",
       "      <td>M Chinnaswamy Stadium</td>\n",
       "      <td>Bengaluru</td>\n",
       "    </tr>\n",
       "    <tr>\n",
       "      <th>192987</th>\n",
       "      <td>1237178</td>\n",
       "      <td>Sheikh Zayed Stadium</td>\n",
       "      <td>Abu Dhabi, UAE</td>\n",
       "    </tr>\n",
       "    <tr>\n",
       "      <th>137391</th>\n",
       "      <td>1082595</td>\n",
       "      <td>M.Chinnaswamy Stadium</td>\n",
       "      <td>Bengaluru</td>\n",
       "    </tr>\n",
       "    <tr>\n",
       "      <th>111608</th>\n",
       "      <td>829709</td>\n",
       "      <td>Maharashtra Cricket Association Stadium</td>\n",
       "      <td>Pune</td>\n",
       "    </tr>\n",
       "    <tr>\n",
       "      <th>51272</th>\n",
       "      <td>501239</td>\n",
       "      <td>Rajiv Gandhi International Stadium, Uppal</td>\n",
       "      <td>Hyderabad</td>\n",
       "    </tr>\n",
       "    <tr>\n",
       "      <th>168942</th>\n",
       "      <td>1136605</td>\n",
       "      <td>Arun Jaitley Stadium</td>\n",
       "      <td>Delhi</td>\n",
       "    </tr>\n",
       "    <tr>\n",
       "      <th>67307</th>\n",
       "      <td>548345</td>\n",
       "      <td>Feroz Shah Kotla</td>\n",
       "      <td>Delhi</td>\n",
       "    </tr>\n",
       "    <tr>\n",
       "      <th>66030</th>\n",
       "      <td>548339</td>\n",
       "      <td>Punjab Cricket Association Stadium, Mohali</td>\n",
       "      <td>Mohali</td>\n",
       "    </tr>\n",
       "    <tr>\n",
       "      <th>181859</th>\n",
       "      <td>1216547</td>\n",
       "      <td>Dubai International Cricket Stadium</td>\n",
       "      <td>Dubai, UAE</td>\n",
       "    </tr>\n",
       "  </tbody>\n",
       "</table>\n",
       "</div>"
      ],
      "text/plain": [
       "        match_id                                     stadium  \\\n",
       "22444     392220                       De Beers Diamond Oval   \n",
       "68174     548348                            Barabati Stadium   \n",
       "214460   1304073                    Wankhede Stadium, Mumbai   \n",
       "95093     729283                        Sheikh Zayed Stadium   \n",
       "115151    829765             MA Chidambaram Stadium, Chepauk   \n",
       "210107   1304055          Dr DY Patil Sports Academy, Mumbai   \n",
       "57339     501266                       M Chinnaswamy Stadium   \n",
       "192987   1237178                        Sheikh Zayed Stadium   \n",
       "137391   1082595                       M.Chinnaswamy Stadium   \n",
       "111608    829709     Maharashtra Cricket Association Stadium   \n",
       "51272     501239   Rajiv Gandhi International Stadium, Uppal   \n",
       "168942   1136605                        Arun Jaitley Stadium   \n",
       "67307     548345                            Feroz Shah Kotla   \n",
       "66030     548339  Punjab Cricket Association Stadium, Mohali   \n",
       "181859   1216547         Dubai International Cricket Stadium   \n",
       "\n",
       "                          venue  \n",
       "22444   Kimberley, South Africa  \n",
       "68174                   Cuttack  \n",
       "214460                   Mumbai  \n",
       "95093            Abu Dhabi, UAE  \n",
       "115151                  Chennai  \n",
       "210107                   Mumbai  \n",
       "57339                 Bengaluru  \n",
       "192987           Abu Dhabi, UAE  \n",
       "137391                Bengaluru  \n",
       "111608                     Pune  \n",
       "51272                 Hyderabad  \n",
       "168942                    Delhi  \n",
       "67307                     Delhi  \n",
       "66030                    Mohali  \n",
       "181859               Dubai, UAE  "
      ]
     },
     "execution_count": 23,
     "metadata": {},
     "output_type": "execute_result"
    }
   ],
   "source": [
    "df[['match_id','stadium','venue']].sample(15)"
   ]
  },
  {
   "cell_type": "code",
   "execution_count": 24,
   "metadata": {},
   "outputs": [
    {
     "name": "stdout",
     "output_type": "stream",
     "text": [
      "-------- Match Dataset --------\n",
      "\n",
      "No of columns:  30\n"
     ]
    },
    {
     "data": {
      "text/plain": [
       "Index(['match_id', 'season', 'start_date', 'stadium', 'innings', 'over',\n",
       "       'batting_team', 'bowling_team', 'striker', 'non_striker', 'bowler',\n",
       "       'runs_off_bat', 'extras', 'wides', 'noballs', 'byes', 'legbyes',\n",
       "       'penalty', 'wicket_type', 'player_dismissed', 'other_wicket_type',\n",
       "       'other_player_dismissed', 'batting_team_short_name',\n",
       "       'bowling_team_short_name', 'venue', 'total_run', 'final_total_runs',\n",
       "       'is_wicket', 'wickets', 'runs'],\n",
       "      dtype='object')"
      ]
     },
     "execution_count": 24,
     "metadata": {},
     "output_type": "execute_result"
    }
   ],
   "source": [
    "print(\"-------- Match Dataset --------\\n\")\n",
    "print('No of columns: ', len(df.columns))\n",
    "df.columns"
   ]
  },
  {
   "cell_type": "code",
   "execution_count": 25,
   "metadata": {},
   "outputs": [
    {
     "name": "stdout",
     "output_type": "stream",
     "text": [
      "-------- Match Info --------\n",
      "\n",
      "No of columns:  28\n"
     ]
    },
    {
     "data": {
      "text/plain": [
       "Index(['match_id', 'season', 'date', 'city', 'stadium', 'team1', 'team2',\n",
       "       'toss_winner', 'toss_decision', 'player_of_match', 'winner',\n",
       "       'winner_wickets', 'winner_runs', 'outcome', 'result_type', 'results',\n",
       "       'gender', 'event', 'match_number', 'umpire1', 'umpire2',\n",
       "       'reserve_umpire', 'tv_umpire', 'match_referee', 'eliminator', 'method',\n",
       "       'date_1', 'venue'],\n",
       "      dtype='object')"
      ]
     },
     "execution_count": 25,
     "metadata": {},
     "output_type": "execute_result"
    }
   ],
   "source": [
    "print(\"-------- Match Info --------\\n\")\n",
    "print('No of columns: ', len(df_info.columns))\n",
    "df_info.columns"
   ]
  },
  {
   "cell_type": "markdown",
   "metadata": {},
   "source": [
    "### Save the data"
   ]
  },
  {
   "cell_type": "code",
   "execution_count": 26,
   "metadata": {},
   "outputs": [],
   "source": [
    "df.to_csv('./archive/match_data.csv', index=False)\n",
    "df_info.to_csv('./archive/match_info.csv', index=False)"
   ]
  },
  {
   "cell_type": "code",
   "execution_count": null,
   "metadata": {},
   "outputs": [],
   "source": []
  }
 ],
 "metadata": {
  "kernelspec": {
   "display_name": ".venv",
   "language": "python",
   "name": "python3"
  },
  "language_info": {
   "codemirror_mode": {
    "name": "ipython",
    "version": 3
   },
   "file_extension": ".py",
   "mimetype": "text/x-python",
   "name": "python",
   "nbconvert_exporter": "python",
   "pygments_lexer": "ipython3",
   "version": "3.12.3"
  }
 },
 "nbformat": 4,
 "nbformat_minor": 2
}
